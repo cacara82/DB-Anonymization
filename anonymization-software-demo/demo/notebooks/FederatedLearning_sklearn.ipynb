{
  "cells": [
    {
      "cell_type": "markdown",
      "metadata": {
        "id": "DO_Zsjbhsl4k"
      },
      "source": [
        "### Federated Learning and Label Flipping attacks\n",
        "\n",
        "In this notebook we train a machine learning model for MNIST classification.\n",
        "We then train the same model in a federated learning setting.\n",
        "In this setting, we test label flipping attacks and some defence mechanisms."
      ]
    },
    {
      "cell_type": "code",
      "execution_count": 3,
      "metadata": {
        "ExecuteTime": {
          "end_time": "2020-07-23T08:43:49.685647Z",
          "start_time": "2020-07-23T08:43:38.069332Z"
        },
        "id": "quu5AEVCsl4m"
      },
      "outputs": [],
      "source": [
        "#IMPORTS\n",
        "import sklearn\n",
        "from sklearn.datasets import fetch_openml\n",
        "from sklearn.model_selection import train_test_split\n",
        "from sklearn.metrics import accuracy_score,classification_report,confusion_matrix\n",
        "from scipy.spatial.distance import euclidean\n",
        "\n",
        "import numpy as np\n",
        "from sklearn.neural_network import MLPClassifier\n",
        "\n",
        "import copy\n",
        "from time import sleep\n",
        "from tqdm import tqdm\n",
        "import random\n",
        "\n",
        "import matplotlib.pyplot as plt\n",
        "%matplotlib inline\n",
        "\n",
        "import warnings\n",
        "from sklearn.exceptions import ConvergenceWarning\n",
        "warnings.simplefilter(\"ignore\", category=ConvergenceWarning)"
      ]
    },
    {
      "cell_type": "code",
      "execution_count": 4,
      "metadata": {
        "id": "ZJ3YqhjNsl4n"
      },
      "outputs": [],
      "source": [
        "import ssl\n",
        "ssl._create_default_https_context = ssl._create_unverified_context\n",
        "\n",
        "mnist = fetch_openml('mnist_784')\n",
        "X = mnist.data.to_numpy()\n",
        "y = mnist.target.to_numpy()\n",
        "\n",
        "# Normalize X to 0..1\n",
        "X = X / 255.0"
      ]
    },
    {
      "cell_type": "code",
      "execution_count": 5,
      "metadata": {
        "id": "NtF2cJ60sl4n"
      },
      "outputs": [],
      "source": [
        "X, X_public, y, y_public = train_test_split(X, y, test_size=0.05, random_state=42)\n",
        "X_train, X_test, y_train, y_test = train_test_split(X, y, test_size=0.2, random_state=42)"
      ]
    },
    {
      "cell_type": "markdown",
      "metadata": {
        "id": "9NGFeBWssl4o"
      },
      "source": [
        "### Testing a centralized model\n",
        "\n",
        "We train a Scikit-learn multilayer perceptron to stablish a baseline\n",
        "accuracy for our following experiments."
      ]
    },
    {
      "cell_type": "code",
      "execution_count": 6,
      "metadata": {
        "colab": {
          "base_uri": "https://localhost:8080/",
          "height": 1000
        },
        "id": "t3PmRZflsl4o",
        "outputId": "346a8591-2538-45f3-a320-3df66f6bd695"
      },
      "outputs": [
        {
          "name": "stdout",
          "output_type": "stream",
          "text": [
            "Iteration 1, loss = 1.11055291\n",
            "Iteration 2, loss = 0.41721589\n",
            "Iteration 3, loss = 0.34221428\n",
            "Iteration 4, loss = 0.30741673\n",
            "Iteration 5, loss = 0.28350132\n",
            "Iteration 6, loss = 0.26499095\n",
            "Iteration 7, loss = 0.24962104\n",
            "Iteration 8, loss = 0.23637722\n",
            "Iteration 9, loss = 0.22459483\n",
            "Iteration 10, loss = 0.21390288\n",
            "Iteration 11, loss = 0.20408664\n",
            "Iteration 12, loss = 0.19503766\n",
            "Iteration 13, loss = 0.18665446\n",
            "Iteration 14, loss = 0.17898853\n",
            "Iteration 15, loss = 0.17189867\n",
            "Iteration 16, loss = 0.16534762\n",
            "Iteration 17, loss = 0.15926354\n",
            "Iteration 18, loss = 0.15358529\n",
            "Iteration 19, loss = 0.14826147\n",
            "Iteration 20, loss = 0.14331693\n",
            "Iteration 21, loss = 0.13863297\n",
            "Iteration 22, loss = 0.13424480\n",
            "Iteration 23, loss = 0.13013080\n",
            "Iteration 24, loss = 0.12623595\n",
            "Iteration 25, loss = 0.12255077\n",
            "Iteration 26, loss = 0.11905862\n",
            "Iteration 27, loss = 0.11577397\n",
            "Iteration 28, loss = 0.11266348\n",
            "Iteration 29, loss = 0.10970015\n",
            "Iteration 30, loss = 0.10688783\n",
            "Iteration 31, loss = 0.10420212\n",
            "Iteration 32, loss = 0.10165242\n",
            "Iteration 33, loss = 0.09919422\n",
            "Iteration 34, loss = 0.09686202\n",
            "Iteration 35, loss = 0.09464734\n",
            "Iteration 36, loss = 0.09249306\n",
            "Iteration 37, loss = 0.09044998\n",
            "Iteration 38, loss = 0.08847269\n",
            "Iteration 39, loss = 0.08658876\n",
            "Iteration 40, loss = 0.08474544\n",
            "Iteration 41, loss = 0.08299193\n",
            "Iteration 42, loss = 0.08128715\n",
            "Iteration 43, loss = 0.07964339\n",
            "Iteration 44, loss = 0.07805432\n",
            "Iteration 45, loss = 0.07650978\n",
            "Iteration 46, loss = 0.07500960\n",
            "Iteration 47, loss = 0.07354578\n",
            "Iteration 48, loss = 0.07213402\n",
            "Iteration 49, loss = 0.07076182\n",
            "Iteration 50, loss = 0.06942129\n",
            "Iteration 51, loss = 0.06813217\n",
            "Iteration 52, loss = 0.06689234\n",
            "Iteration 53, loss = 0.06566848\n",
            "Iteration 54, loss = 0.06448334\n",
            "Iteration 55, loss = 0.06333223\n",
            "Iteration 56, loss = 0.06218555\n",
            "Iteration 57, loss = 0.06109002\n",
            "Iteration 58, loss = 0.06000949\n",
            "Iteration 59, loss = 0.05894926\n",
            "Iteration 60, loss = 0.05794153\n",
            "Iteration 61, loss = 0.05692326\n",
            "Iteration 62, loss = 0.05595224\n",
            "Iteration 63, loss = 0.05496877\n",
            "Iteration 64, loss = 0.05403147\n",
            "Iteration 65, loss = 0.05312276\n",
            "Iteration 66, loss = 0.05224197\n",
            "Iteration 67, loss = 0.05136163\n",
            "Iteration 68, loss = 0.05050212\n",
            "Iteration 69, loss = 0.04966967\n",
            "Iteration 70, loss = 0.04885888\n",
            "Iteration 71, loss = 0.04805278\n",
            "Iteration 72, loss = 0.04727950\n",
            "Iteration 73, loss = 0.04650781\n",
            "Iteration 74, loss = 0.04576405\n",
            "Iteration 75, loss = 0.04503303\n",
            "Iteration 76, loss = 0.04432374\n",
            "Iteration 77, loss = 0.04360419\n",
            "Iteration 78, loss = 0.04291674\n",
            "Iteration 79, loss = 0.04222945\n",
            "Iteration 80, loss = 0.04156584\n",
            "Iteration 81, loss = 0.04091732\n",
            "Iteration 82, loss = 0.04026161\n",
            "Iteration 83, loss = 0.03963493\n",
            "Iteration 84, loss = 0.03899924\n",
            "Iteration 85, loss = 0.03838720\n",
            "Iteration 86, loss = 0.03779237\n",
            "Iteration 87, loss = 0.03717959\n",
            "Iteration 88, loss = 0.03661440\n",
            "Iteration 89, loss = 0.03603782\n",
            "Iteration 90, loss = 0.03546960\n",
            "Iteration 91, loss = 0.03491699\n",
            "Iteration 92, loss = 0.03436056\n",
            "Iteration 93, loss = 0.03382547\n",
            "Iteration 94, loss = 0.03329506\n",
            "Iteration 95, loss = 0.03276950\n",
            "Iteration 96, loss = 0.03226831\n",
            "Iteration 97, loss = 0.03176599\n",
            "Iteration 98, loss = 0.03128097\n",
            "Iteration 99, loss = 0.03077974\n",
            "Iteration 100, loss = 0.03030834\n"
          ]
        },
        {
          "data": {
            "text/html": [
              "<style>#sk-container-id-1 {\n",
              "  /* Definition of color scheme common for light and dark mode */\n",
              "  --sklearn-color-text: #000;\n",
              "  --sklearn-color-text-muted: #666;\n",
              "  --sklearn-color-line: gray;\n",
              "  /* Definition of color scheme for unfitted estimators */\n",
              "  --sklearn-color-unfitted-level-0: #fff5e6;\n",
              "  --sklearn-color-unfitted-level-1: #f6e4d2;\n",
              "  --sklearn-color-unfitted-level-2: #ffe0b3;\n",
              "  --sklearn-color-unfitted-level-3: chocolate;\n",
              "  /* Definition of color scheme for fitted estimators */\n",
              "  --sklearn-color-fitted-level-0: #f0f8ff;\n",
              "  --sklearn-color-fitted-level-1: #d4ebff;\n",
              "  --sklearn-color-fitted-level-2: #b3dbfd;\n",
              "  --sklearn-color-fitted-level-3: cornflowerblue;\n",
              "\n",
              "  /* Specific color for light theme */\n",
              "  --sklearn-color-text-on-default-background: var(--sg-text-color, var(--theme-code-foreground, var(--jp-content-font-color1, black)));\n",
              "  --sklearn-color-background: var(--sg-background-color, var(--theme-background, var(--jp-layout-color0, white)));\n",
              "  --sklearn-color-border-box: var(--sg-text-color, var(--theme-code-foreground, var(--jp-content-font-color1, black)));\n",
              "  --sklearn-color-icon: #696969;\n",
              "\n",
              "  @media (prefers-color-scheme: dark) {\n",
              "    /* Redefinition of color scheme for dark theme */\n",
              "    --sklearn-color-text-on-default-background: var(--sg-text-color, var(--theme-code-foreground, var(--jp-content-font-color1, white)));\n",
              "    --sklearn-color-background: var(--sg-background-color, var(--theme-background, var(--jp-layout-color0, #111)));\n",
              "    --sklearn-color-border-box: var(--sg-text-color, var(--theme-code-foreground, var(--jp-content-font-color1, white)));\n",
              "    --sklearn-color-icon: #878787;\n",
              "  }\n",
              "}\n",
              "\n",
              "#sk-container-id-1 {\n",
              "  color: var(--sklearn-color-text);\n",
              "}\n",
              "\n",
              "#sk-container-id-1 pre {\n",
              "  padding: 0;\n",
              "}\n",
              "\n",
              "#sk-container-id-1 input.sk-hidden--visually {\n",
              "  border: 0;\n",
              "  clip: rect(1px 1px 1px 1px);\n",
              "  clip: rect(1px, 1px, 1px, 1px);\n",
              "  height: 1px;\n",
              "  margin: -1px;\n",
              "  overflow: hidden;\n",
              "  padding: 0;\n",
              "  position: absolute;\n",
              "  width: 1px;\n",
              "}\n",
              "\n",
              "#sk-container-id-1 div.sk-dashed-wrapped {\n",
              "  border: 1px dashed var(--sklearn-color-line);\n",
              "  margin: 0 0.4em 0.5em 0.4em;\n",
              "  box-sizing: border-box;\n",
              "  padding-bottom: 0.4em;\n",
              "  background-color: var(--sklearn-color-background);\n",
              "}\n",
              "\n",
              "#sk-container-id-1 div.sk-container {\n",
              "  /* jupyter's `normalize.less` sets `[hidden] { display: none; }`\n",
              "     but bootstrap.min.css set `[hidden] { display: none !important; }`\n",
              "     so we also need the `!important` here to be able to override the\n",
              "     default hidden behavior on the sphinx rendered scikit-learn.org.\n",
              "     See: https://github.com/scikit-learn/scikit-learn/issues/21755 */\n",
              "  display: inline-block !important;\n",
              "  position: relative;\n",
              "}\n",
              "\n",
              "#sk-container-id-1 div.sk-text-repr-fallback {\n",
              "  display: none;\n",
              "}\n",
              "\n",
              "div.sk-parallel-item,\n",
              "div.sk-serial,\n",
              "div.sk-item {\n",
              "  /* draw centered vertical line to link estimators */\n",
              "  background-image: linear-gradient(var(--sklearn-color-text-on-default-background), var(--sklearn-color-text-on-default-background));\n",
              "  background-size: 2px 100%;\n",
              "  background-repeat: no-repeat;\n",
              "  background-position: center center;\n",
              "}\n",
              "\n",
              "/* Parallel-specific style estimator block */\n",
              "\n",
              "#sk-container-id-1 div.sk-parallel-item::after {\n",
              "  content: \"\";\n",
              "  width: 100%;\n",
              "  border-bottom: 2px solid var(--sklearn-color-text-on-default-background);\n",
              "  flex-grow: 1;\n",
              "}\n",
              "\n",
              "#sk-container-id-1 div.sk-parallel {\n",
              "  display: flex;\n",
              "  align-items: stretch;\n",
              "  justify-content: center;\n",
              "  background-color: var(--sklearn-color-background);\n",
              "  position: relative;\n",
              "}\n",
              "\n",
              "#sk-container-id-1 div.sk-parallel-item {\n",
              "  display: flex;\n",
              "  flex-direction: column;\n",
              "}\n",
              "\n",
              "#sk-container-id-1 div.sk-parallel-item:first-child::after {\n",
              "  align-self: flex-end;\n",
              "  width: 50%;\n",
              "}\n",
              "\n",
              "#sk-container-id-1 div.sk-parallel-item:last-child::after {\n",
              "  align-self: flex-start;\n",
              "  width: 50%;\n",
              "}\n",
              "\n",
              "#sk-container-id-1 div.sk-parallel-item:only-child::after {\n",
              "  width: 0;\n",
              "}\n",
              "\n",
              "/* Serial-specific style estimator block */\n",
              "\n",
              "#sk-container-id-1 div.sk-serial {\n",
              "  display: flex;\n",
              "  flex-direction: column;\n",
              "  align-items: center;\n",
              "  background-color: var(--sklearn-color-background);\n",
              "  padding-right: 1em;\n",
              "  padding-left: 1em;\n",
              "}\n",
              "\n",
              "\n",
              "/* Toggleable style: style used for estimator/Pipeline/ColumnTransformer box that is\n",
              "clickable and can be expanded/collapsed.\n",
              "- Pipeline and ColumnTransformer use this feature and define the default style\n",
              "- Estimators will overwrite some part of the style using the `sk-estimator` class\n",
              "*/\n",
              "\n",
              "/* Pipeline and ColumnTransformer style (default) */\n",
              "\n",
              "#sk-container-id-1 div.sk-toggleable {\n",
              "  /* Default theme specific background. It is overwritten whether we have a\n",
              "  specific estimator or a Pipeline/ColumnTransformer */\n",
              "  background-color: var(--sklearn-color-background);\n",
              "}\n",
              "\n",
              "/* Toggleable label */\n",
              "#sk-container-id-1 label.sk-toggleable__label {\n",
              "  cursor: pointer;\n",
              "  display: flex;\n",
              "  width: 100%;\n",
              "  margin-bottom: 0;\n",
              "  padding: 0.5em;\n",
              "  box-sizing: border-box;\n",
              "  text-align: center;\n",
              "  align-items: start;\n",
              "  justify-content: space-between;\n",
              "  gap: 0.5em;\n",
              "}\n",
              "\n",
              "#sk-container-id-1 label.sk-toggleable__label .caption {\n",
              "  font-size: 0.6rem;\n",
              "  font-weight: lighter;\n",
              "  color: var(--sklearn-color-text-muted);\n",
              "}\n",
              "\n",
              "#sk-container-id-1 label.sk-toggleable__label-arrow:before {\n",
              "  /* Arrow on the left of the label */\n",
              "  content: \"▸\";\n",
              "  float: left;\n",
              "  margin-right: 0.25em;\n",
              "  color: var(--sklearn-color-icon);\n",
              "}\n",
              "\n",
              "#sk-container-id-1 label.sk-toggleable__label-arrow:hover:before {\n",
              "  color: var(--sklearn-color-text);\n",
              "}\n",
              "\n",
              "/* Toggleable content - dropdown */\n",
              "\n",
              "#sk-container-id-1 div.sk-toggleable__content {\n",
              "  max-height: 0;\n",
              "  max-width: 0;\n",
              "  overflow: hidden;\n",
              "  text-align: left;\n",
              "  /* unfitted */\n",
              "  background-color: var(--sklearn-color-unfitted-level-0);\n",
              "}\n",
              "\n",
              "#sk-container-id-1 div.sk-toggleable__content.fitted {\n",
              "  /* fitted */\n",
              "  background-color: var(--sklearn-color-fitted-level-0);\n",
              "}\n",
              "\n",
              "#sk-container-id-1 div.sk-toggleable__content pre {\n",
              "  margin: 0.2em;\n",
              "  border-radius: 0.25em;\n",
              "  color: var(--sklearn-color-text);\n",
              "  /* unfitted */\n",
              "  background-color: var(--sklearn-color-unfitted-level-0);\n",
              "}\n",
              "\n",
              "#sk-container-id-1 div.sk-toggleable__content.fitted pre {\n",
              "  /* unfitted */\n",
              "  background-color: var(--sklearn-color-fitted-level-0);\n",
              "}\n",
              "\n",
              "#sk-container-id-1 input.sk-toggleable__control:checked~div.sk-toggleable__content {\n",
              "  /* Expand drop-down */\n",
              "  max-height: 200px;\n",
              "  max-width: 100%;\n",
              "  overflow: auto;\n",
              "}\n",
              "\n",
              "#sk-container-id-1 input.sk-toggleable__control:checked~label.sk-toggleable__label-arrow:before {\n",
              "  content: \"▾\";\n",
              "}\n",
              "\n",
              "/* Pipeline/ColumnTransformer-specific style */\n",
              "\n",
              "#sk-container-id-1 div.sk-label input.sk-toggleable__control:checked~label.sk-toggleable__label {\n",
              "  color: var(--sklearn-color-text);\n",
              "  background-color: var(--sklearn-color-unfitted-level-2);\n",
              "}\n",
              "\n",
              "#sk-container-id-1 div.sk-label.fitted input.sk-toggleable__control:checked~label.sk-toggleable__label {\n",
              "  background-color: var(--sklearn-color-fitted-level-2);\n",
              "}\n",
              "\n",
              "/* Estimator-specific style */\n",
              "\n",
              "/* Colorize estimator box */\n",
              "#sk-container-id-1 div.sk-estimator input.sk-toggleable__control:checked~label.sk-toggleable__label {\n",
              "  /* unfitted */\n",
              "  background-color: var(--sklearn-color-unfitted-level-2);\n",
              "}\n",
              "\n",
              "#sk-container-id-1 div.sk-estimator.fitted input.sk-toggleable__control:checked~label.sk-toggleable__label {\n",
              "  /* fitted */\n",
              "  background-color: var(--sklearn-color-fitted-level-2);\n",
              "}\n",
              "\n",
              "#sk-container-id-1 div.sk-label label.sk-toggleable__label,\n",
              "#sk-container-id-1 div.sk-label label {\n",
              "  /* The background is the default theme color */\n",
              "  color: var(--sklearn-color-text-on-default-background);\n",
              "}\n",
              "\n",
              "/* On hover, darken the color of the background */\n",
              "#sk-container-id-1 div.sk-label:hover label.sk-toggleable__label {\n",
              "  color: var(--sklearn-color-text);\n",
              "  background-color: var(--sklearn-color-unfitted-level-2);\n",
              "}\n",
              "\n",
              "/* Label box, darken color on hover, fitted */\n",
              "#sk-container-id-1 div.sk-label.fitted:hover label.sk-toggleable__label.fitted {\n",
              "  color: var(--sklearn-color-text);\n",
              "  background-color: var(--sklearn-color-fitted-level-2);\n",
              "}\n",
              "\n",
              "/* Estimator label */\n",
              "\n",
              "#sk-container-id-1 div.sk-label label {\n",
              "  font-family: monospace;\n",
              "  font-weight: bold;\n",
              "  display: inline-block;\n",
              "  line-height: 1.2em;\n",
              "}\n",
              "\n",
              "#sk-container-id-1 div.sk-label-container {\n",
              "  text-align: center;\n",
              "}\n",
              "\n",
              "/* Estimator-specific */\n",
              "#sk-container-id-1 div.sk-estimator {\n",
              "  font-family: monospace;\n",
              "  border: 1px dotted var(--sklearn-color-border-box);\n",
              "  border-radius: 0.25em;\n",
              "  box-sizing: border-box;\n",
              "  margin-bottom: 0.5em;\n",
              "  /* unfitted */\n",
              "  background-color: var(--sklearn-color-unfitted-level-0);\n",
              "}\n",
              "\n",
              "#sk-container-id-1 div.sk-estimator.fitted {\n",
              "  /* fitted */\n",
              "  background-color: var(--sklearn-color-fitted-level-0);\n",
              "}\n",
              "\n",
              "/* on hover */\n",
              "#sk-container-id-1 div.sk-estimator:hover {\n",
              "  /* unfitted */\n",
              "  background-color: var(--sklearn-color-unfitted-level-2);\n",
              "}\n",
              "\n",
              "#sk-container-id-1 div.sk-estimator.fitted:hover {\n",
              "  /* fitted */\n",
              "  background-color: var(--sklearn-color-fitted-level-2);\n",
              "}\n",
              "\n",
              "/* Specification for estimator info (e.g. \"i\" and \"?\") */\n",
              "\n",
              "/* Common style for \"i\" and \"?\" */\n",
              "\n",
              ".sk-estimator-doc-link,\n",
              "a:link.sk-estimator-doc-link,\n",
              "a:visited.sk-estimator-doc-link {\n",
              "  float: right;\n",
              "  font-size: smaller;\n",
              "  line-height: 1em;\n",
              "  font-family: monospace;\n",
              "  background-color: var(--sklearn-color-background);\n",
              "  border-radius: 1em;\n",
              "  height: 1em;\n",
              "  width: 1em;\n",
              "  text-decoration: none !important;\n",
              "  margin-left: 0.5em;\n",
              "  text-align: center;\n",
              "  /* unfitted */\n",
              "  border: var(--sklearn-color-unfitted-level-1) 1pt solid;\n",
              "  color: var(--sklearn-color-unfitted-level-1);\n",
              "}\n",
              "\n",
              ".sk-estimator-doc-link.fitted,\n",
              "a:link.sk-estimator-doc-link.fitted,\n",
              "a:visited.sk-estimator-doc-link.fitted {\n",
              "  /* fitted */\n",
              "  border: var(--sklearn-color-fitted-level-1) 1pt solid;\n",
              "  color: var(--sklearn-color-fitted-level-1);\n",
              "}\n",
              "\n",
              "/* On hover */\n",
              "div.sk-estimator:hover .sk-estimator-doc-link:hover,\n",
              ".sk-estimator-doc-link:hover,\n",
              "div.sk-label-container:hover .sk-estimator-doc-link:hover,\n",
              ".sk-estimator-doc-link:hover {\n",
              "  /* unfitted */\n",
              "  background-color: var(--sklearn-color-unfitted-level-3);\n",
              "  color: var(--sklearn-color-background);\n",
              "  text-decoration: none;\n",
              "}\n",
              "\n",
              "div.sk-estimator.fitted:hover .sk-estimator-doc-link.fitted:hover,\n",
              ".sk-estimator-doc-link.fitted:hover,\n",
              "div.sk-label-container:hover .sk-estimator-doc-link.fitted:hover,\n",
              ".sk-estimator-doc-link.fitted:hover {\n",
              "  /* fitted */\n",
              "  background-color: var(--sklearn-color-fitted-level-3);\n",
              "  color: var(--sklearn-color-background);\n",
              "  text-decoration: none;\n",
              "}\n",
              "\n",
              "/* Span, style for the box shown on hovering the info icon */\n",
              ".sk-estimator-doc-link span {\n",
              "  display: none;\n",
              "  z-index: 9999;\n",
              "  position: relative;\n",
              "  font-weight: normal;\n",
              "  right: .2ex;\n",
              "  padding: .5ex;\n",
              "  margin: .5ex;\n",
              "  width: min-content;\n",
              "  min-width: 20ex;\n",
              "  max-width: 50ex;\n",
              "  color: var(--sklearn-color-text);\n",
              "  box-shadow: 2pt 2pt 4pt #999;\n",
              "  /* unfitted */\n",
              "  background: var(--sklearn-color-unfitted-level-0);\n",
              "  border: .5pt solid var(--sklearn-color-unfitted-level-3);\n",
              "}\n",
              "\n",
              ".sk-estimator-doc-link.fitted span {\n",
              "  /* fitted */\n",
              "  background: var(--sklearn-color-fitted-level-0);\n",
              "  border: var(--sklearn-color-fitted-level-3);\n",
              "}\n",
              "\n",
              ".sk-estimator-doc-link:hover span {\n",
              "  display: block;\n",
              "}\n",
              "\n",
              "/* \"?\"-specific style due to the `<a>` HTML tag */\n",
              "\n",
              "#sk-container-id-1 a.estimator_doc_link {\n",
              "  float: right;\n",
              "  font-size: 1rem;\n",
              "  line-height: 1em;\n",
              "  font-family: monospace;\n",
              "  background-color: var(--sklearn-color-background);\n",
              "  border-radius: 1rem;\n",
              "  height: 1rem;\n",
              "  width: 1rem;\n",
              "  text-decoration: none;\n",
              "  /* unfitted */\n",
              "  color: var(--sklearn-color-unfitted-level-1);\n",
              "  border: var(--sklearn-color-unfitted-level-1) 1pt solid;\n",
              "}\n",
              "\n",
              "#sk-container-id-1 a.estimator_doc_link.fitted {\n",
              "  /* fitted */\n",
              "  border: var(--sklearn-color-fitted-level-1) 1pt solid;\n",
              "  color: var(--sklearn-color-fitted-level-1);\n",
              "}\n",
              "\n",
              "/* On hover */\n",
              "#sk-container-id-1 a.estimator_doc_link:hover {\n",
              "  /* unfitted */\n",
              "  background-color: var(--sklearn-color-unfitted-level-3);\n",
              "  color: var(--sklearn-color-background);\n",
              "  text-decoration: none;\n",
              "}\n",
              "\n",
              "#sk-container-id-1 a.estimator_doc_link.fitted:hover {\n",
              "  /* fitted */\n",
              "  background-color: var(--sklearn-color-fitted-level-3);\n",
              "}\n",
              "</style><div id=\"sk-container-id-1\" class=\"sk-top-container\"><div class=\"sk-text-repr-fallback\"><pre>MLPClassifier(batch_size=64, hidden_layer_sizes=(50, 50), max_iter=100,\n",
              "              shuffle=False, solver=&#x27;sgd&#x27;, verbose=True)</pre><b>In a Jupyter environment, please rerun this cell to show the HTML representation or trust the notebook. <br />On GitHub, the HTML representation is unable to render, please try loading this page with nbviewer.org.</b></div><div class=\"sk-container\" hidden><div class=\"sk-item\"><div class=\"sk-estimator fitted sk-toggleable\"><input class=\"sk-toggleable__control sk-hidden--visually\" id=\"sk-estimator-id-1\" type=\"checkbox\" checked><label for=\"sk-estimator-id-1\" class=\"sk-toggleable__label fitted sk-toggleable__label-arrow\"><div><div>MLPClassifier</div></div><div><a class=\"sk-estimator-doc-link fitted\" rel=\"noreferrer\" target=\"_blank\" href=\"https://scikit-learn.org/1.6/modules/generated/sklearn.neural_network.MLPClassifier.html\">?<span>Documentation for MLPClassifier</span></a><span class=\"sk-estimator-doc-link fitted\">i<span>Fitted</span></span></div></label><div class=\"sk-toggleable__content fitted\"><pre>MLPClassifier(batch_size=64, hidden_layer_sizes=(50, 50), max_iter=100,\n",
              "              shuffle=False, solver=&#x27;sgd&#x27;, verbose=True)</pre></div> </div></div></div></div>"
            ],
            "text/plain": [
              "MLPClassifier(batch_size=64, hidden_layer_sizes=(50, 50), max_iter=100,\n",
              "              shuffle=False, solver='sgd', verbose=True)"
            ]
          },
          "execution_count": 6,
          "metadata": {},
          "output_type": "execute_result"
        }
      ],
      "source": [
        "mlp = MLPClassifier(hidden_layer_sizes=(50,50,),\n",
        "                    activation='relu',\n",
        "                    solver='sgd',\n",
        "                    batch_size=64,\n",
        "                    learning_rate_init=0.001,\n",
        "                    max_iter=100,\n",
        "                    tol=0.0001,\n",
        "                    shuffle=False,\n",
        "                    verbose=True)\n",
        "mlp.fit(X_train,y_train)"
      ]
    },
    {
      "cell_type": "code",
      "execution_count": 7,
      "metadata": {
        "colab": {
          "base_uri": "https://localhost:8080/"
        },
        "id": "zaFU-D_bsl4o",
        "outputId": "662b5647-168a-478c-83b5-3d27addf2f2f"
      },
      "outputs": [
        {
          "name": "stdout",
          "output_type": "stream",
          "text": [
            "Accuracy : 0.9718796992481203\n",
            "              precision    recall  f1-score   support\n",
            "\n",
            "           0       0.99      0.98      0.98      1285\n",
            "           1       0.99      0.99      0.99      1482\n",
            "           2       0.97      0.96      0.97      1340\n",
            "           3       0.95      0.97      0.96      1312\n",
            "           4       0.97      0.97      0.97      1369\n",
            "           5       0.97      0.96      0.96      1165\n",
            "           6       0.98      0.98      0.98      1313\n",
            "           7       0.98      0.97      0.98      1372\n",
            "           8       0.96      0.96      0.96      1321\n",
            "           9       0.96      0.96      0.96      1341\n",
            "\n",
            "    accuracy                           0.97     13300\n",
            "   macro avg       0.97      0.97      0.97     13300\n",
            "weighted avg       0.97      0.97      0.97     13300\n",
            "\n"
          ]
        }
      ],
      "source": [
        "result = mlp.predict(X_test)\n",
        "print('Accuracy :', accuracy_score(y_test,result))\n",
        "print(classification_report(y_test,result))"
      ]
    },
    {
      "cell_type": "code",
      "execution_count": 8,
      "metadata": {
        "colab": {
          "base_uri": "https://localhost:8080/",
          "height": 417
        },
        "id": "ek63cGg8sl4o",
        "outputId": "b6ed0abb-2ffa-4709-e95d-9cfb107ee642"
      },
      "outputs": [
        {
          "data": {
            "image/png": "[encoded data removed]",
            "text/plain": [
              "<Figure size 480x480 with 2 Axes>"
            ]
          },
          "metadata": {},
          "output_type": "display_data"
        }
      ],
      "source": [
        "# BASELINE RESULTS\n",
        "mat = confusion_matrix(y_test, mlp.predict(X_test))\n",
        "plt.matshow(mat);\n",
        "plt.colorbar()\n",
        "plt.show()"
      ]
    },
    {
      "cell_type": "markdown",
      "metadata": {
        "id": "LM9EjEIdsl4p"
      },
      "source": [
        "Model definition to initialize the global model"
      ]
    },
    {
      "cell_type": "code",
      "execution_count": 9,
      "metadata": {
        "ExecuteTime": {
          "end_time": "2020-07-23T08:43:50.433642Z",
          "start_time": "2020-07-23T08:43:50.426643Z"
        },
        "id": "lUfyVJvasl4p"
      },
      "outputs": [],
      "source": [
        "# MODEL DEFINITION\n",
        "def build_model(lr=0.001, batch_size=64, local_epochs=2, warm_start=True):\n",
        "    model = MLPClassifier(hidden_layer_sizes=(50,50,),\n",
        "                    activation='relu',\n",
        "                    solver='sgd',\n",
        "                    batch_size=batch_size,\n",
        "                    learning_rate_init=lr,\n",
        "                    max_iter=local_epochs,\n",
        "                    early_stopping=False,\n",
        "                    shuffle=False,\n",
        "                    warm_start=warm_start,\n",
        "                    tol=0.0001)\n",
        "\n",
        "    return model"
      ]
    },
    {
      "cell_type": "markdown",
      "metadata": {
        "id": "0UVUBszfsl4p"
      },
      "source": [
        "### Auxiliary methods for federated learning\n",
        "\n",
        "The following functions are used to:\n",
        "- get and set the NN's weights and biases,\n",
        "- extract the users' local updates by substracting the local model parameters after training from the global model parameters, and\n",
        "- to run a training step on the global model."
      ]
    },
    {
      "cell_type": "code",
      "execution_count": 12,
      "metadata": {
        "ExecuteTime": {
          "end_time": "2020-07-23T08:43:50.495643Z",
          "start_time": "2020-07-23T08:43:50.470644Z"
        },
        "id": "O5QnQs8Msl4p"
      },
      "outputs": [],
      "source": [
        "#AUXILIARY METHODS FOR FEDERATED LEARNING\n",
        "\n",
        "# RETURN WEIGHTS AND BIASES OF A MODEL\n",
        "def get_parameters(model):\n",
        "    return copy.deepcopy(model.coefs_), copy.deepcopy(model.intercepts_)\n",
        "\n",
        "# SET WEIGHTS AND BIASES OF A MODEL\n",
        "def set_parameters(model, weights, biases):\n",
        "    model.coefs_ = weights\n",
        "    model.intercepts_ = biases\n",
        "\n",
        "# RETURN THE DIFFERENCE OF MODELS' WEIGHTS AND BIASES AFTER AN UPDATE\n",
        "# NOTE: LEARNING RATE IS APPLIED, SO THE UPDATE IS DIFFERENT FROM THE\n",
        "# GRADIENTS. IN CASE VANILLA SGD IS USED, THE GRADIENTS ARE OBTAINED\n",
        "# AS (UPDATES / LEARNING_RATE)\n",
        "def get_updates(model, inputs, outputs, batch_size, epochs):\n",
        "    w, b = get_parameters(model)\n",
        "    model.fit(inputs, outputs)\n",
        "    w_new, b_new = get_parameters(model)\n",
        "\n",
        "    weight_updates = [old - new for old,new in zip(w, w_new)]\n",
        "    bias_updates = [old - new for old,new in zip(b, b_new)]\n",
        "\n",
        "    return weight_updates, bias_updates\n",
        "\n",
        "# UPDATE THE MODEL'S WEIGHTS AND PARAMETERS WITH AN UPDATE\n",
        "def apply_updates(model, eta, w_new, b_new):\n",
        "    w, b = get_parameters(model)\n",
        "    new_weights = [theta - eta*delta for theta,delta in zip(w, w_new)]\n",
        "    new_biases = [theta - eta*delta for theta,delta in zip(b, b_new)]\n",
        "    set_parameters(model, new_weights, new_biases)\n",
        "\n",
        "# FEDERATED AGGREGATION FUNCTION\n",
        "def aggregate(n_layers, n_peers, f, w_updates, b_updates):\n",
        "    agg_w = [f([w_updates[j][i] for j in range(n_peers)], axis=0) for i in range(n_layers)]\n",
        "    agg_b = [f([b_updates[j][i] for j in range(n_peers)], axis=0) for i in range(n_layers)]\n",
        "    return agg_w, agg_b\n",
        "\n",
        "# TRANSFORM ALL WEIGHT TENSORS TO 1D ARRAY\n",
        "def flatten_weights(w_in):\n",
        "    h = w_in[0].reshape(-1)\n",
        "    for w in w_in[1:]:\n",
        "        h = np.append(h, w.reshape(-1))\n",
        "    return h\n",
        "\n",
        "# TRANSFORM ALL BIAS TENSORS TO 1D ARRAY\n",
        "def flatten_biases(b_in):\n",
        "    h = b_in[0].reshape(-1)\n",
        "    for b in b_in[1:]:\n",
        "        h = np.append(h, b.reshape(-1))\n",
        "    return h\n",
        "\n",
        "# TRANSFORM WEIGHT AND BIAS TENSORS TO 1D ARRAY\n",
        "def flatten_parameters(w_in, b_in):\n",
        "    w = flatten_weights(w_in)\n",
        "    b = flatten_biases(b_in)\n",
        "    return w, b\n",
        "\n",
        "# COMPUTE EUCLIDEAN DISTANCE OF WEIGHTS\n",
        "def dist_weights(w_a, w_b):\n",
        "    wf_a = flatten_weights(w_a)\n",
        "    wf_b = flatten_weights(w_b)\n",
        "    return euclidean(wf_a, wf_b)\n",
        "\n",
        "# COMPUTE EUCLIDEAN DISTANCE OF BIASES\n",
        "def dist_biases(b_a, b_b):\n",
        "    bf_a = flatten_biases(b_a)\n",
        "    bf_b = flatten_biases(b_b)\n",
        "    return euclidean(bf_a, bf_b)\n",
        "\n",
        "# COMPUTE EUCLIDEAN DISTANCE OF WEIGHTS AND BIASES\n",
        "def dist_parameters(w_a, b_a, w_b, b_b):\n",
        "    wf_a, bf_a = flatten_parameters(w_a, b_a)\n",
        "    wf_b, bf_b = flatten_parameters(w_b, b_b)\n",
        "    return euclidean(np.append(wf_a, bf_a), np.append(wf_b, bf_b))"
      ]
    },
    {
      "cell_type": "markdown",
      "metadata": {
        "id": "_t3uLNKSsl4p"
      },
      "source": [
        "### Auxiliary methods for attackers\n",
        "\n",
        "The following to functions are used to:\n",
        "- flip the labels from an origin class to a target class, and\n",
        "- boost updates."
      ]
    },
    {
      "cell_type": "code",
      "execution_count": 13,
      "metadata": {
        "ExecuteTime": {
          "end_time": "2020-07-23T08:43:50.533642Z",
          "start_time": "2020-07-23T08:43:50.527643Z"
        },
        "id": "Ky9lXdHXsl4q"
      },
      "outputs": [],
      "source": [
        "# AUXILIARY METHODS FOR THE ATTACKERS\n",
        "def poison(labels, origin, target):\n",
        "    output_cat = np.where(labels == origin, target, labels)\n",
        "    output_cat[random.randint(0,len(labels))] = origin\n",
        "    return output_cat\n",
        "\n",
        "# MULTIPLIES PARAMETERS BY SOME SCALAR BOOST\n",
        "def boosting(weights, biases, boost):\n",
        "    w_boosted = [boost*w for w in weights]\n",
        "    b_boosted = [boost*b for b in biases]\n",
        "    return w_boosted, b_boosted"
      ]
    },
    {
      "cell_type": "markdown",
      "metadata": {
        "id": "0mkv9JaPsl4q"
      },
      "source": [
        "### Local training\n",
        "\n",
        "The following function implements the local training at the clients' side. Clients can be either good or malicious. Good peers will just run a few local training steps and return the updates. Malicious clients will also poison their data before training, and optionally boost their updates before sending them."
      ]
    },
    {
      "cell_type": "code",
      "execution_count": 14,
      "metadata": {
        "id": "CFI1IY7Isl4q"
      },
      "outputs": [],
      "source": [
        "# Client code\n",
        "def client_training(global_model, local_batch_size, n_local_rounds, features, labels, malicious, malicious_targets, malicious_boost):\n",
        "\n",
        "    # Fetch global model\n",
        "    local_model = copy.deepcopy(global_model)\n",
        "\n",
        "    # Local model update\n",
        "    if malicious:\n",
        "        # Malicious peer\n",
        "        # Modify target class labels\n",
        "\n",
        "        acts_mal = random.random() <= 1.0\n",
        "\n",
        "        if acts_mal:\n",
        "            labels = poison(labels, malicious_targets[i][0], malicious_targets[i][1])\n",
        "\n",
        "        # Train local model with benign and malicious data\n",
        "        local_weight_updates, local_bias_updates = get_updates(local_model,\n",
        "                                                               features, labels,\n",
        "                                                               local_batch_size, n_local_rounds)\n",
        "\n",
        "        # Boost update\n",
        "        if acts_mal:\n",
        "            local_weight_updates, local_bias_updates = boosting(local_weight_updates, local_bias_updates, malicious_boost[i])\n",
        "\n",
        "    else:\n",
        "        # Benign peer\n",
        "        # Train local model\n",
        "        local_weight_updates, local_bias_updates = get_updates(local_model,\n",
        "                                                               inputs, outputs,\n",
        "                                                               local_batch_size, n_local_rounds)\n",
        "\n",
        "    return local_weight_updates, local_bias_updates"
      ]
    },
    {
      "cell_type": "markdown",
      "metadata": {
        "id": "k5iW9Q7Ssl4q"
      },
      "source": [
        "## FL Testbed\n",
        "\n",
        "### Test parameters\n",
        "\n",
        "The following code contains the configuration of the FL tests.\n",
        "\n",
        "The configuration includes:\n",
        "- Number of peers\n",
        "- Fraction of peers that participate in each of the global training epochs\n",
        "- Number of global training epochs\n",
        "- Number of local training epochs\n",
        "- Batch size for local training\n",
        "- Learning rate for local training\n",
        "- Global training rate or model substitution rate\n",
        "- Attack detection mechanism\n",
        "    - None\n",
        "    - Distance (with parameter tau)\n",
        "    - Median\n",
        "    - Krum (with parameter tolerance)"
      ]
    },
    {
      "cell_type": "code",
      "execution_count": 15,
      "metadata": {
        "ExecuteTime": {
          "end_time": "2020-07-23T11:25:09.847128Z",
          "start_time": "2020-07-23T10:05:48.424021Z"
        },
        "id": "xFqlNH66sl4q",
        "scrolled": true
      },
      "outputs": [],
      "source": [
        "# TESTBED\n",
        "\n",
        "#####################\n",
        "# SYSTEM PARAMETERS #\n",
        "#####################\n",
        "\n",
        "# Number of peers\n",
        "n_peers = 5\n",
        "\n",
        "# Percentage and number of peers participating at each global training epoch\n",
        "percentage_participants = 1.00\n",
        "n_participants = int(n_peers * percentage_participants)\n",
        "\n",
        "# Number of global training epochs\n",
        "n_rounds = 10\n",
        "\n",
        "# Number of local training epochs per global training epoch\n",
        "n_local_rounds = 2\n",
        "\n",
        "# Local batch size\n",
        "local_batch_size = 32\n",
        "\n",
        "# Local learning rate\n",
        "local_lr = 0.001\n",
        "\n",
        "# Global learning rate or 'gain'\n",
        "model_substitution_rate = 0.25\n",
        "\n",
        "# Attack detection / prevention mechanism = {None, 'distance', 'median', 'krum'}\n",
        "discard_outliers = None\n",
        "\n",
        "# Used in 'dist' attack detection, defines how far the outliers are (1.5 is a typical value)\n",
        "tau = 1.5\n",
        "\n",
        "# Used in 'krum' attack detection, defines how many byzantine attackers we want to defend against\n",
        "tolerance=1\n",
        "\n",
        "\n",
        "########################\n",
        "# ATTACK CONFIGURATION #\n",
        "########################\n",
        "\n",
        "# Percentage of malicious peers\n",
        "r_malicious_peers = 0.0\n",
        "\n",
        "# Number of malicious peers (absolute or relative to total number of peers)\n",
        "n_malicious_peers = int(n_peers * r_malicious_peers)\n",
        "\n",
        "# Malicious peers\n",
        "malicious_peer = [] # range(n_malicious_peers)\n",
        "\n",
        "# Target for coalitions\n",
        "common_attack_target = ['4','7']\n",
        "\n",
        "# Target class of the attack, per each malicious peer\n",
        "malicious_targets = dict([(p, t) for p,t in zip(malicious_peer, [common_attack_target]*n_malicious_peers)])\n",
        "\n",
        "# Boosting parameter per each malicious peer\n",
        "common_malicious_boost = 10\n",
        "malicious_boost = dict([(p, b) for p,b in zip(malicious_peer, [common_malicious_boost]*n_malicious_peers)])"
      ]
    },
    {
      "cell_type": "markdown",
      "metadata": {
        "id": "yVarS_GCsl4q"
      },
      "source": [
        "### Test execution\n",
        "\n",
        "1. Global model initialization\n",
        "2. Peer initialization\n",
        "3. Training loop\n",
        "    1. Selection of participating peers\n",
        "    2. Local training\n",
        "    3. Update collection\n",
        "    4. Attack detection\n",
        "    5. Parameter aggregation\n",
        "    6. Report accuracy"
      ]
    },
    {
      "cell_type": "code",
      "execution_count": 16,
      "metadata": {
        "colab": {
          "base_uri": "https://localhost:8080/"
        },
        "id": "eRjBbUwpsl4q",
        "outputId": "eead0dfe-8333-4a16-85de-ec7f7abb45ad"
      },
      "outputs": [
        {
          "name": "stdout",
          "output_type": "stream",
          "text": [
            "Round 1.\n"
          ]
        },
        {
          "name": "stderr",
          "output_type": "stream",
          "text": [
            "100%|██████████| 5/5 [00:01<00:00,  2.82it/s]\n"
          ]
        },
        {
          "name": "stdout",
          "output_type": "stream",
          "text": [
            "Global model accuracy: 0.7604511278195488\n",
            "Round 2.\n"
          ]
        },
        {
          "name": "stderr",
          "output_type": "stream",
          "text": [
            "100%|██████████| 5/5 [00:01<00:00,  2.92it/s]\n"
          ]
        },
        {
          "name": "stdout",
          "output_type": "stream",
          "text": [
            "Global model accuracy: 0.8127067669172933\n",
            "Round 3.\n"
          ]
        },
        {
          "name": "stderr",
          "output_type": "stream",
          "text": [
            "100%|██████████| 5/5 [00:01<00:00,  2.84it/s]\n"
          ]
        },
        {
          "name": "stdout",
          "output_type": "stream",
          "text": [
            "Global model accuracy: 0.8445864661654136\n",
            "Round 4.\n"
          ]
        },
        {
          "name": "stderr",
          "output_type": "stream",
          "text": [
            "100%|██████████| 5/5 [00:01<00:00,  2.71it/s]\n"
          ]
        },
        {
          "name": "stdout",
          "output_type": "stream",
          "text": [
            "Global model accuracy: 0.8619548872180451\n",
            "Round 5.\n"
          ]
        },
        {
          "name": "stderr",
          "output_type": "stream",
          "text": [
            "100%|██████████| 5/5 [00:01<00:00,  2.71it/s]\n"
          ]
        },
        {
          "name": "stdout",
          "output_type": "stream",
          "text": [
            "Global model accuracy: 0.8746616541353384\n",
            "Round 6.\n"
          ]
        },
        {
          "name": "stderr",
          "output_type": "stream",
          "text": [
            "100%|██████████| 5/5 [00:01<00:00,  2.82it/s]\n"
          ]
        },
        {
          "name": "stdout",
          "output_type": "stream",
          "text": [
            "Global model accuracy: 0.8812781954887218\n",
            "Round 7.\n"
          ]
        },
        {
          "name": "stderr",
          "output_type": "stream",
          "text": [
            "100%|██████████| 5/5 [00:01<00:00,  2.84it/s]\n"
          ]
        },
        {
          "name": "stdout",
          "output_type": "stream",
          "text": [
            "Global model accuracy: 0.8861654135338346\n",
            "Round 8.\n"
          ]
        },
        {
          "name": "stderr",
          "output_type": "stream",
          "text": [
            "100%|██████████| 5/5 [00:01<00:00,  2.88it/s]\n"
          ]
        },
        {
          "name": "stdout",
          "output_type": "stream",
          "text": [
            "Global model accuracy: 0.8909774436090225\n",
            "Round 9.\n"
          ]
        },
        {
          "name": "stderr",
          "output_type": "stream",
          "text": [
            "100%|██████████| 5/5 [00:01<00:00,  2.67it/s]\n"
          ]
        },
        {
          "name": "stdout",
          "output_type": "stream",
          "text": [
            "Global model accuracy: 0.8947368421052632\n",
            "Round 10.\n"
          ]
        },
        {
          "name": "stderr",
          "output_type": "stream",
          "text": [
            "100%|██████████| 5/5 [00:01<00:00,  2.67it/s]"
          ]
        },
        {
          "name": "stdout",
          "output_type": "stream",
          "text": [
            "Global model accuracy: 0.8976691729323308\n"
          ]
        },
        {
          "name": "stderr",
          "output_type": "stream",
          "text": [
            "\n"
          ]
        }
      ],
      "source": [
        "####################################\n",
        "# MODEL AND NETWORK INITIALIZATION #\n",
        "####################################\n",
        "global_model = build_model(local_lr, local_batch_size, n_local_rounds, True)\n",
        "\n",
        "# In Scikit-learn, an initial fit is required to build initial weight\n",
        "# and bias lists\n",
        "global_model.fit(X_public, y_public)\n",
        "n_layers = len(global_model.coefs_)\n",
        "\n",
        "\n",
        "##################\n",
        "# BEGIN TRAINING #\n",
        "##################\n",
        "for t in range(n_rounds):\n",
        "    print(f'Round {t+1}.')\n",
        "    #sleep(1)\n",
        "\n",
        "    ## SERVER SIDE #################################################################\n",
        "\n",
        "    # Initialize peer update lists\n",
        "    network_weight_updates = []\n",
        "    network_bias_updates = []\n",
        "\n",
        "    # Selection of participant peers in this global training epoch\n",
        "    participants = random.sample(list(range(n_peers)), n_participants)\n",
        "\n",
        "    ################################################################################\n",
        "\n",
        "    ## CLIENT SIDE #################################################################\n",
        "    for i in tqdm(participants):\n",
        "\n",
        "        # Initialization of user data\n",
        "        ss = int(len(X_train)/n_peers)\n",
        "        inputs = X_train[i*ss:i*ss+ss]\n",
        "        outputs = y_train[i*ss:i*ss+ss]\n",
        "\n",
        "        local_weight_updates, local_bias_updates = client_training(\n",
        "            global_model,\n",
        "            local_batch_size,\n",
        "            n_local_rounds,\n",
        "            inputs,\n",
        "            outputs,\n",
        "            i in malicious_peer,\n",
        "            malicious_targets,\n",
        "            malicious_boost\n",
        "        )\n",
        "\n",
        "        # Send updates to the server\n",
        "        network_weight_updates.append(local_weight_updates)\n",
        "        network_bias_updates.append(local_bias_updates)\n",
        "\n",
        "    ## END OF CLIENT SIDE ##########################################################\n",
        "\n",
        "    ######################################\n",
        "    # SERVER SIDE AGGREGATION MECHANISMS #\n",
        "    ######################################\n",
        "\n",
        "    # No detection of outliers\n",
        "    if discard_outliers == None:\n",
        "        # Aggregate client updates\n",
        "        aggregated_weights, aggregated_biases = aggregate(n_layers,\n",
        "                                                          n_participants,\n",
        "                                                          np.mean,\n",
        "                                                          network_weight_updates,\n",
        "                                                          network_bias_updates)\n",
        "\n",
        "        # Apply updates to global model\n",
        "        apply_updates(global_model, model_substitution_rate, aggregated_weights, aggregated_biases)\n",
        "\n",
        "    # Detection of outliers via distance metric\n",
        "    elif discard_outliers == 'distance':\n",
        "        # Compute the provisional aggregate\n",
        "        prov_agg_w, prov_agg_b = aggregate(n_layers,\n",
        "                                           n_participants,\n",
        "                                           np.mean,\n",
        "                                           network_weight_updates,\n",
        "                                           network_bias_updates)\n",
        "\n",
        "        # Compute distances and IQR of individual updates to the provisional aggregate\n",
        "        distances = [dist_weights(prov_agg_w, w_i) for w_i in network_weight_updates]\n",
        "        q1 = np.percentile(distances, 25)\n",
        "        q3 = np.percentile(distances, 75)\n",
        "        iqr = q3 - q1\n",
        "        low = q1 - tau * iqr\n",
        "        high = q3 + tau * iqr\n",
        "\n",
        "        # Discard outliers\n",
        "        good_updates = [i for i,v in enumerate(distances) if low <= v <= high]\n",
        "        agg_participants = len(good_updates)\n",
        "        network_weight_updates = [w for i,w in enumerate(network_weight_updates) if i in good_updates]\n",
        "        network_bias_updates = [b for i,b in enumerate(network_bias_updates) if i in good_updates]\n",
        "\n",
        "        # Compute definitive update\n",
        "        aggregated_weights, aggregated_biases = aggregate(n_layers,\n",
        "                                                          agg_participants,\n",
        "                                                          np.mean,\n",
        "                                                          network_weight_updates,\n",
        "                                                          network_bias_updates)\n",
        "\n",
        "        # Apply update\n",
        "        apply_updates(global_model, model_substitution_rate, aggregated_weights, aggregated_biases)\n",
        "\n",
        "\n",
        "    # Robust aggregation via median\n",
        "    elif discard_outliers == 'median':\n",
        "        # Compute the aggregate as the component-wise median of local updates\n",
        "        aggregated_weights, aggregated_biases = aggregate(n_layers,\n",
        "                                                          n_participants,\n",
        "                                                          np.median,\n",
        "                                                          network_weight_updates,\n",
        "                                                          network_bias_updates)\n",
        "\n",
        "        # Apply update\n",
        "        apply_updates(global_model, model_substitution_rate, aggregated_weights, aggregated_biases)\n",
        "\n",
        "    # KRUM\n",
        "    elif discard_outliers == 'krum':\n",
        "        # First, we build a distance matrix for parameters\n",
        "        P = list(zip(network_weight_updates, network_bias_updates))\n",
        "        dist_matrix = [[dist_parameters(wi,bi,wj,bj) for wj,bj in P] for wi,bi in P]\n",
        "        scores = []\n",
        "        for index in range(len(P)):\n",
        "            distances_to_index = np.array(dist_matrix[index])\n",
        "            closest_to_index = np.argpartition(distances_to_index, n_participants-tolerance-1)[:n_participants-tolerance-1]\n",
        "            scores.append(np.sum(distances_to_index[closest_to_index]))\n",
        "        best = np.argmin(scores)\n",
        "        aggregated_weights = network_weight_updates[best]\n",
        "        aggregated_biases = network_bias_updates[best]\n",
        "\n",
        "        # Apply update\n",
        "        apply_updates(global_model, model_substitution_rate, aggregated_weights, aggregated_biases)\n",
        "\n",
        "    # Fallback case: no detection of outliers\n",
        "    else:\n",
        "        # Proceed as in first case\n",
        "        aggregated_weights, aggregated_biases = aggregate(n_layers,\n",
        "                                                          n_participants,\n",
        "                                                          np.mean,\n",
        "                                                          network_weight_updates,\n",
        "                                                          network_bias_updates)\n",
        "\n",
        "        apply_updates(global_model, model_substitution_rate, aggregated_weights, aggregated_biases)\n",
        "\n",
        "    ###################\n",
        "    # COMPUTE METRICS #\n",
        "    ###################\n",
        "\n",
        "    # Global model accuracy\n",
        "    result = global_model.predict(X_test)\n",
        "    score = accuracy_score(y_test, result)\n",
        "    print(f'Global model accuracy: {score}')\n"
      ]
    },
    {
      "cell_type": "code",
      "execution_count": 17,
      "metadata": {
        "colab": {
          "base_uri": "https://localhost:8080/",
          "height": 417
        },
        "id": "q7ej9znxsl4r",
        "outputId": "2064ec4e-b1dc-45e3-cba0-094eef9a47df"
      },
      "outputs": [
        {
          "data": {
            "image/png": "[encoded data removed]",
            "text/plain": [
              "<Figure size 480x480 with 2 Axes>"
            ]
          },
          "metadata": {},
          "output_type": "display_data"
        }
      ],
      "source": [
        "# BASELINE RESULTS\n",
        "mat = confusion_matrix(y_test, global_model.predict(X_test))\n",
        "plt.matshow(mat);\n",
        "plt.colorbar()\n",
        "plt.show()"
      ]
    },
    {
      "cell_type": "code",
      "execution_count": null,
      "metadata": {
        "id": "u8ol-IR8sl4r"
      },
      "outputs": [],
      "source": []
    }
  ],
  "metadata": {
    "colab": {
      "provenance": []
    },
    "kernelspec": {
      "display_name": "Python 3",
      "language": "python",
      "name": "python3"
    },
    "language_info": {
      "codemirror_mode": {
        "name": "ipython",
        "version": 3
      },
      "file_extension": ".py",
      "mimetype": "text/x-python",
      "name": "python",
      "nbconvert_exporter": "python",
      "pygments_lexer": "ipython3",
      "version": "3.13.2"
    },
    "toc": {
      "base_numbering": 1,
      "nav_menu": {},
      "number_sections": true,
      "sideBar": true,
      "skip_h1_title": false,
      "title_cell": "Table of Contents",
      "title_sidebar": "Contents",
      "toc_cell": false,
      "toc_position": {},
      "toc_section_display": true,
      "toc_window_display": false
    },
    "varInspector": {
      "cols": {
        "lenName": 16,
        "lenType": 16,
        "lenVar": 40
      },
      "kernels_config": {
        "python": {
          "delete_cmd_postfix": "",
          "delete_cmd_prefix": "del ",
          "library": "var_list.py",
          "varRefreshCmd": "print(var_dic_list())"
        },
        "r": {
          "delete_cmd_postfix": ") ",
          "delete_cmd_prefix": "rm(",
          "library": "var_list.r",
          "varRefreshCmd": "cat(var_dic_list()) "
        }
      },
      "types_to_exclude": [
        "module",
        "function",
        "builtin_function_or_method",
        "instance",
        "_Feature"
      ],
      "window_display": false
    }
  },
  "nbformat": 4,
  "nbformat_minor": 0
}
